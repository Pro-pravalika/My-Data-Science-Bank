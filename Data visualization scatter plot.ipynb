{
 "cells": [
  {
   "cell_type": "markdown",
   "id": "e8dfca8f",
   "metadata": {},
   "source": [
    "##  Scatter Plot.."
   ]
  },
  {
   "cell_type": "markdown",
   "id": "f3de2b52",
   "metadata": {},
   "source": [
    "### In scatter plot , is useful for presenting relation between two variables..\n"
   ]
  },
  {
   "cell_type": "code",
   "execution_count": 1,
   "id": "d97e3918",
   "metadata": {},
   "outputs": [],
   "source": [
    "import numpy as np\n",
    "import matplotlib.pyplot as plt"
   ]
  },
  {
   "cell_type": "code",
   "execution_count": 5,
   "id": "17617bb6",
   "metadata": {},
   "outputs": [],
   "source": [
    "x = np.random.normal(5.0,1.0,10)\n",
    "y = np.random.normal(10.0,2.0,10)"
   ]
  },
  {
   "cell_type": "code",
   "execution_count": 6,
   "id": "70e0c6b0",
   "metadata": {},
   "outputs": [
    {
     "data": {
      "image/png": "[encoded data removed]",
      "text/plain": [
       "<Figure size 432x288 with 1 Axes>"
      ]
     },
     "metadata": {
      "needs_background": "light"
     },
     "output_type": "display_data"
    }
   ],
   "source": [
    "plt.scatter(x,y)\n",
    "plt.show()"
   ]
  }
 ],
 "metadata": {
  "kernelspec": {
   "display_name": "Python 3 (ipykernel)",
   "language": "python",
   "name": "python3"
  },
  "language_info": {
   "codemirror_mode": {
    "name": "ipython",
    "version": 3
   },
   "file_extension": ".py",
   "mimetype": "text/x-python",
   "name": "python",
   "nbconvert_exporter": "python",
   "pygments_lexer": "ipython3",
   "version": "3.9.7"
  }
 },
 "nbformat": 4,
 "nbformat_minor": 5
}
